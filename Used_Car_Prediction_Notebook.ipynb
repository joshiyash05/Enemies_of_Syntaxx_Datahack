{
 "cells": [
  {
   "cell_type": "code",
   "execution_count": 1,
   "id": "886fa45d",
   "metadata": {},
   "outputs": [],
   "source": [
    "# Packages for EDA \n",
    "import pandas as pd \n",
    "import numpy as np \n",
    "import seaborn as sns \n",
    "\n",
    "# Data Preprocessing\n",
    "from sklearn.model_selection import train_test_split\n",
    "import category_encoders as ce\n",
    "from sklearn.metrics import mean_squared_error\n",
    "from sklearn.preprocessing import PowerTransformer\n",
    "\n",
    "# Modeling\n",
    "from sklearn.linear_model import LinearRegression\n",
    "from sklearn.linear_model import LassoCV\n",
    "from sklearn.linear_model import RidgeCV\n",
    "from sklearn.linear_model import ElasticNetCV\n",
    "np.seterr(divide='ignore', invalid='ignore', over='ignore')\n",
    "\n",
    "\n",
    "# Showing Plots inside notebook\n",
    "%matplotlib inline  \n",
    "sns.set(rc={'figure.figsize': [7, 14]}, font_scale=1.2) # Standard figure size for all "
   ]
  },
  {
   "cell_type": "code",
   "execution_count": 2,
   "id": "961ebc14",
   "metadata": {},
   "outputs": [
    {
     "data": {
      "text/html": [
       "<div>\n",
       "<style scoped>\n",
       "    .dataframe tbody tr th:only-of-type {\n",
       "        vertical-align: middle;\n",
       "    }\n",
       "\n",
       "    .dataframe tbody tr th {\n",
       "        vertical-align: top;\n",
       "    }\n",
       "\n",
       "    .dataframe thead th {\n",
       "        text-align: right;\n",
       "    }\n",
       "</style>\n",
       "<table border=\"1\" class=\"dataframe\">\n",
       "  <thead>\n",
       "    <tr style=\"text-align: right;\">\n",
       "      <th></th>\n",
       "      <th>Unnamed: 0</th>\n",
       "      <th>Name</th>\n",
       "      <th>Location</th>\n",
       "      <th>Year</th>\n",
       "      <th>Kilometers_Driven</th>\n",
       "      <th>Fuel_Type</th>\n",
       "      <th>Transmission</th>\n",
       "      <th>Owner_Type</th>\n",
       "      <th>Mileage</th>\n",
       "      <th>Engine</th>\n",
       "      <th>Power</th>\n",
       "      <th>Seats</th>\n",
       "      <th>New_Price</th>\n",
       "      <th>Price</th>\n",
       "    </tr>\n",
       "  </thead>\n",
       "  <tbody>\n",
       "    <tr>\n",
       "      <th>1435</th>\n",
       "      <td>1435</td>\n",
       "      <td>Mahindra XUV500 W8 2WD</td>\n",
       "      <td>Mumbai</td>\n",
       "      <td>2012</td>\n",
       "      <td>37000</td>\n",
       "      <td>Diesel</td>\n",
       "      <td>Manual</td>\n",
       "      <td>First</td>\n",
       "      <td>16.0 kmpl</td>\n",
       "      <td>2179 CC</td>\n",
       "      <td>140 bhp</td>\n",
       "      <td>7.0</td>\n",
       "      <td>NaN</td>\n",
       "      <td>7.75</td>\n",
       "    </tr>\n",
       "    <tr>\n",
       "      <th>333</th>\n",
       "      <td>333</td>\n",
       "      <td>Hyundai i20 Asta 1.2</td>\n",
       "      <td>Pune</td>\n",
       "      <td>2011</td>\n",
       "      <td>79152</td>\n",
       "      <td>Petrol</td>\n",
       "      <td>Manual</td>\n",
       "      <td>Second</td>\n",
       "      <td>18.5 kmpl</td>\n",
       "      <td>1197 CC</td>\n",
       "      <td>82.85 bhp</td>\n",
       "      <td>5.0</td>\n",
       "      <td>NaN</td>\n",
       "      <td>3.30</td>\n",
       "    </tr>\n",
       "    <tr>\n",
       "      <th>5010</th>\n",
       "      <td>5010</td>\n",
       "      <td>Volkswagen Ameo 1.2 MPI Highline 16 Alloy</td>\n",
       "      <td>Mumbai</td>\n",
       "      <td>2016</td>\n",
       "      <td>16650</td>\n",
       "      <td>Petrol</td>\n",
       "      <td>Manual</td>\n",
       "      <td>First</td>\n",
       "      <td>17.0 kmpl</td>\n",
       "      <td>1198 CC</td>\n",
       "      <td>74 bhp</td>\n",
       "      <td>5.0</td>\n",
       "      <td>NaN</td>\n",
       "      <td>5.50</td>\n",
       "    </tr>\n",
       "    <tr>\n",
       "      <th>4595</th>\n",
       "      <td>4595</td>\n",
       "      <td>Audi Q3 35 TDI Quattro Premium Plus</td>\n",
       "      <td>Coimbatore</td>\n",
       "      <td>2017</td>\n",
       "      <td>42366</td>\n",
       "      <td>Diesel</td>\n",
       "      <td>Automatic</td>\n",
       "      <td>First</td>\n",
       "      <td>15.73 kmpl</td>\n",
       "      <td>1968 CC</td>\n",
       "      <td>174.33 bhp</td>\n",
       "      <td>5.0</td>\n",
       "      <td>NaN</td>\n",
       "      <td>31.93</td>\n",
       "    </tr>\n",
       "    <tr>\n",
       "      <th>1944</th>\n",
       "      <td>1944</td>\n",
       "      <td>Mahindra XUV500 AT W10 FWD</td>\n",
       "      <td>Mumbai</td>\n",
       "      <td>2016</td>\n",
       "      <td>41000</td>\n",
       "      <td>Diesel</td>\n",
       "      <td>Automatic</td>\n",
       "      <td>First</td>\n",
       "      <td>16.0 kmpl</td>\n",
       "      <td>2179 CC</td>\n",
       "      <td>140 bhp</td>\n",
       "      <td>7.0</td>\n",
       "      <td>NaN</td>\n",
       "      <td>13.75</td>\n",
       "    </tr>\n",
       "  </tbody>\n",
       "</table>\n",
       "</div>"
      ],
      "text/plain": [
       "      Unnamed: 0                                       Name    Location  Year  \\\n",
       "1435        1435                     Mahindra XUV500 W8 2WD      Mumbai  2012   \n",
       "333          333                       Hyundai i20 Asta 1.2        Pune  2011   \n",
       "5010        5010  Volkswagen Ameo 1.2 MPI Highline 16 Alloy      Mumbai  2016   \n",
       "4595        4595        Audi Q3 35 TDI Quattro Premium Plus  Coimbatore  2017   \n",
       "1944        1944                 Mahindra XUV500 AT W10 FWD      Mumbai  2016   \n",
       "\n",
       "      Kilometers_Driven Fuel_Type Transmission Owner_Type     Mileage  \\\n",
       "1435              37000    Diesel       Manual      First   16.0 kmpl   \n",
       "333               79152    Petrol       Manual     Second   18.5 kmpl   \n",
       "5010              16650    Petrol       Manual      First   17.0 kmpl   \n",
       "4595              42366    Diesel    Automatic      First  15.73 kmpl   \n",
       "1944              41000    Diesel    Automatic      First   16.0 kmpl   \n",
       "\n",
       "       Engine       Power  Seats New_Price  Price  \n",
       "1435  2179 CC     140 bhp    7.0       NaN   7.75  \n",
       "333   1197 CC   82.85 bhp    5.0       NaN   3.30  \n",
       "5010  1198 CC      74 bhp    5.0       NaN   5.50  \n",
       "4595  1968 CC  174.33 bhp    5.0       NaN  31.93  \n",
       "1944  2179 CC     140 bhp    7.0       NaN  13.75  "
      ]
     },
     "execution_count": 2,
     "metadata": {},
     "output_type": "execute_result"
    }
   ],
   "source": [
    "df = pd.read_csv('train-data.csv')\n",
    "df.sample(5)"
   ]
  },
  {
   "cell_type": "code",
   "execution_count": 3,
   "id": "c9226a70",
   "metadata": {},
   "outputs": [
    {
     "name": "stdout",
     "output_type": "stream",
     "text": [
      "<class 'pandas.core.frame.DataFrame'>\n",
      "RangeIndex: 6019 entries, 0 to 6018\n",
      "Data columns (total 14 columns):\n",
      " #   Column             Non-Null Count  Dtype  \n",
      "---  ------             --------------  -----  \n",
      " 0   Unnamed: 0         6019 non-null   int64  \n",
      " 1   Name               6019 non-null   object \n",
      " 2   Location           6019 non-null   object \n",
      " 3   Year               6019 non-null   int64  \n",
      " 4   Kilometers_Driven  6019 non-null   int64  \n",
      " 5   Fuel_Type          6019 non-null   object \n",
      " 6   Transmission       6019 non-null   object \n",
      " 7   Owner_Type         6019 non-null   object \n",
      " 8   Mileage            6017 non-null   object \n",
      " 9   Engine             5983 non-null   object \n",
      " 10  Power              5983 non-null   object \n",
      " 11  Seats              5977 non-null   float64\n",
      " 12  New_Price          824 non-null    object \n",
      " 13  Price              6019 non-null   float64\n",
      "dtypes: float64(2), int64(3), object(9)\n",
      "memory usage: 658.5+ KB\n"
     ]
    }
   ],
   "source": [
    "df.info()\n"
   ]
  },
  {
   "cell_type": "code",
   "execution_count": 4,
   "id": "7ffe115d",
   "metadata": {},
   "outputs": [
    {
     "data": {
      "text/plain": [
       "0"
      ]
     },
     "execution_count": 4,
     "metadata": {},
     "output_type": "execute_result"
    }
   ],
   "source": [
    "df.duplicated().sum()\n"
   ]
  },
  {
   "cell_type": "code",
   "execution_count": 5,
   "id": "51cfcaf8",
   "metadata": {},
   "outputs": [],
   "source": [
    "# Remove duplicated row \n",
    "df.drop_duplicates(inplace=True)"
   ]
  },
  {
   "cell_type": "code",
   "execution_count": 6,
   "id": "38fe67c7",
   "metadata": {},
   "outputs": [],
   "source": [
    "df.drop(\"New_Price\", axis=1, inplace=True)\n"
   ]
  },
  {
   "cell_type": "code",
   "execution_count": 7,
   "id": "be89ea66",
   "metadata": {},
   "outputs": [],
   "source": [
    "# My solution \n",
    "from sklearn.impute import SimpleImputer\n",
    "\n",
    "null_col = ['Mileage', 'Engine' , 'Power','Seats']\n",
    "\n",
    "imputer = SimpleImputer(strategy='most_frequent')\n",
    "df[null_col] = imputer.fit_transform(df[null_col])"
   ]
  },
  {
   "cell_type": "code",
   "execution_count": 8,
   "id": "3aa32df7",
   "metadata": {},
   "outputs": [],
   "source": [
    "df = df.convert_dtypes()\n"
   ]
  },
  {
   "cell_type": "code",
   "execution_count": 9,
   "id": "31a1cad2",
   "metadata": {},
   "outputs": [],
   "source": [
    "df['Seats'].replace(to_replace=0 ,value= df['Seats'].mode()[0],inplace=True)"
   ]
  },
  {
   "cell_type": "code",
   "execution_count": 10,
   "id": "9e8bfede",
   "metadata": {},
   "outputs": [
    {
     "data": {
      "text/html": [
       "<div>\n",
       "<style scoped>\n",
       "    .dataframe tbody tr th:only-of-type {\n",
       "        vertical-align: middle;\n",
       "    }\n",
       "\n",
       "    .dataframe tbody tr th {\n",
       "        vertical-align: top;\n",
       "    }\n",
       "\n",
       "    .dataframe thead th {\n",
       "        text-align: right;\n",
       "    }\n",
       "</style>\n",
       "<table border=\"1\" class=\"dataframe\">\n",
       "  <thead>\n",
       "    <tr style=\"text-align: right;\">\n",
       "      <th></th>\n",
       "      <th>Unnamed: 0</th>\n",
       "      <th>Name</th>\n",
       "      <th>Location</th>\n",
       "      <th>Year</th>\n",
       "      <th>Kilometers_Driven</th>\n",
       "      <th>Fuel_Type</th>\n",
       "      <th>Transmission</th>\n",
       "      <th>Owner_Type</th>\n",
       "      <th>Mileage</th>\n",
       "      <th>Engine</th>\n",
       "      <th>Power</th>\n",
       "      <th>Seats</th>\n",
       "      <th>Price</th>\n",
       "    </tr>\n",
       "  </thead>\n",
       "  <tbody>\n",
       "    <tr>\n",
       "      <th>76</th>\n",
       "      <td>76</td>\n",
       "      <td>Ford Fiesta 1.4 SXi TDCi</td>\n",
       "      <td>Jaipur</td>\n",
       "      <td>2008</td>\n",
       "      <td>111111</td>\n",
       "      <td>Diesel</td>\n",
       "      <td>Manual</td>\n",
       "      <td>First</td>\n",
       "      <td>17.8 kmpl</td>\n",
       "      <td>1399 CC</td>\n",
       "      <td>null bhp</td>\n",
       "      <td>5</td>\n",
       "      <td>2.0</td>\n",
       "    </tr>\n",
       "    <tr>\n",
       "      <th>79</th>\n",
       "      <td>79</td>\n",
       "      <td>Hyundai Santro Xing XL</td>\n",
       "      <td>Hyderabad</td>\n",
       "      <td>2005</td>\n",
       "      <td>87591</td>\n",
       "      <td>Petrol</td>\n",
       "      <td>Manual</td>\n",
       "      <td>First</td>\n",
       "      <td>0.0 kmpl</td>\n",
       "      <td>1086 CC</td>\n",
       "      <td>null bhp</td>\n",
       "      <td>5</td>\n",
       "      <td>1.3</td>\n",
       "    </tr>\n",
       "    <tr>\n",
       "      <th>89</th>\n",
       "      <td>89</td>\n",
       "      <td>Hyundai Santro Xing XO</td>\n",
       "      <td>Hyderabad</td>\n",
       "      <td>2007</td>\n",
       "      <td>73745</td>\n",
       "      <td>Petrol</td>\n",
       "      <td>Manual</td>\n",
       "      <td>First</td>\n",
       "      <td>17.0 kmpl</td>\n",
       "      <td>1086 CC</td>\n",
       "      <td>null bhp</td>\n",
       "      <td>5</td>\n",
       "      <td>2.1</td>\n",
       "    </tr>\n",
       "    <tr>\n",
       "      <th>120</th>\n",
       "      <td>120</td>\n",
       "      <td>Hyundai Santro Xing XL eRLX Euro III</td>\n",
       "      <td>Mumbai</td>\n",
       "      <td>2005</td>\n",
       "      <td>102000</td>\n",
       "      <td>Petrol</td>\n",
       "      <td>Manual</td>\n",
       "      <td>Second</td>\n",
       "      <td>17.0 kmpl</td>\n",
       "      <td>1086 CC</td>\n",
       "      <td>null bhp</td>\n",
       "      <td>5</td>\n",
       "      <td>0.85</td>\n",
       "    </tr>\n",
       "    <tr>\n",
       "      <th>143</th>\n",
       "      <td>143</td>\n",
       "      <td>Hyundai Santro Xing XO eRLX Euro II</td>\n",
       "      <td>Kochi</td>\n",
       "      <td>2008</td>\n",
       "      <td>80759</td>\n",
       "      <td>Petrol</td>\n",
       "      <td>Manual</td>\n",
       "      <td>Third</td>\n",
       "      <td>17.0 kmpl</td>\n",
       "      <td>1086 CC</td>\n",
       "      <td>null bhp</td>\n",
       "      <td>5</td>\n",
       "      <td>1.67</td>\n",
       "    </tr>\n",
       "    <tr>\n",
       "      <th>...</th>\n",
       "      <td>...</td>\n",
       "      <td>...</td>\n",
       "      <td>...</td>\n",
       "      <td>...</td>\n",
       "      <td>...</td>\n",
       "      <td>...</td>\n",
       "      <td>...</td>\n",
       "      <td>...</td>\n",
       "      <td>...</td>\n",
       "      <td>...</td>\n",
       "      <td>...</td>\n",
       "      <td>...</td>\n",
       "      <td>...</td>\n",
       "    </tr>\n",
       "    <tr>\n",
       "      <th>5873</th>\n",
       "      <td>5873</td>\n",
       "      <td>Hyundai Santro Xing XO eRLX Euro II</td>\n",
       "      <td>Pune</td>\n",
       "      <td>2006</td>\n",
       "      <td>47200</td>\n",
       "      <td>Petrol</td>\n",
       "      <td>Manual</td>\n",
       "      <td>Second</td>\n",
       "      <td>17.0 kmpl</td>\n",
       "      <td>1086 CC</td>\n",
       "      <td>null bhp</td>\n",
       "      <td>5</td>\n",
       "      <td>1.2</td>\n",
       "    </tr>\n",
       "    <tr>\n",
       "      <th>5893</th>\n",
       "      <td>5893</td>\n",
       "      <td>Maruti Estilo LXI</td>\n",
       "      <td>Chennai</td>\n",
       "      <td>2008</td>\n",
       "      <td>51000</td>\n",
       "      <td>Petrol</td>\n",
       "      <td>Manual</td>\n",
       "      <td>Second</td>\n",
       "      <td>19.5 kmpl</td>\n",
       "      <td>1061 CC</td>\n",
       "      <td>null bhp</td>\n",
       "      <td>5</td>\n",
       "      <td>1.75</td>\n",
       "    </tr>\n",
       "    <tr>\n",
       "      <th>5925</th>\n",
       "      <td>5925</td>\n",
       "      <td>Skoda Laura Classic 1.8 TSI</td>\n",
       "      <td>Pune</td>\n",
       "      <td>2010</td>\n",
       "      <td>85000</td>\n",
       "      <td>Petrol</td>\n",
       "      <td>Manual</td>\n",
       "      <td>First</td>\n",
       "      <td>17.5 kmpl</td>\n",
       "      <td>1798 CC</td>\n",
       "      <td>null bhp</td>\n",
       "      <td>5</td>\n",
       "      <td>2.85</td>\n",
       "    </tr>\n",
       "    <tr>\n",
       "      <th>5943</th>\n",
       "      <td>5943</td>\n",
       "      <td>Mahindra Jeep MM 540 DP</td>\n",
       "      <td>Chennai</td>\n",
       "      <td>2002</td>\n",
       "      <td>75000</td>\n",
       "      <td>Diesel</td>\n",
       "      <td>Manual</td>\n",
       "      <td>First</td>\n",
       "      <td>0.0 kmpl</td>\n",
       "      <td>2112 CC</td>\n",
       "      <td>null bhp</td>\n",
       "      <td>6</td>\n",
       "      <td>1.7</td>\n",
       "    </tr>\n",
       "    <tr>\n",
       "      <th>5985</th>\n",
       "      <td>5985</td>\n",
       "      <td>Toyota Etios GD</td>\n",
       "      <td>Delhi</td>\n",
       "      <td>2013</td>\n",
       "      <td>70000</td>\n",
       "      <td>Diesel</td>\n",
       "      <td>Manual</td>\n",
       "      <td>First</td>\n",
       "      <td>23.59 kmpl</td>\n",
       "      <td>1364 CC</td>\n",
       "      <td>null bhp</td>\n",
       "      <td>5</td>\n",
       "      <td>3.88</td>\n",
       "    </tr>\n",
       "  </tbody>\n",
       "</table>\n",
       "<p>107 rows × 13 columns</p>\n",
       "</div>"
      ],
      "text/plain": [
       "      Unnamed: 0                                  Name   Location  Year  \\\n",
       "76            76              Ford Fiesta 1.4 SXi TDCi     Jaipur  2008   \n",
       "79            79                Hyundai Santro Xing XL  Hyderabad  2005   \n",
       "89            89                Hyundai Santro Xing XO  Hyderabad  2007   \n",
       "120          120  Hyundai Santro Xing XL eRLX Euro III     Mumbai  2005   \n",
       "143          143   Hyundai Santro Xing XO eRLX Euro II      Kochi  2008   \n",
       "...          ...                                   ...        ...   ...   \n",
       "5873        5873   Hyundai Santro Xing XO eRLX Euro II       Pune  2006   \n",
       "5893        5893                     Maruti Estilo LXI    Chennai  2008   \n",
       "5925        5925           Skoda Laura Classic 1.8 TSI       Pune  2010   \n",
       "5943        5943               Mahindra Jeep MM 540 DP    Chennai  2002   \n",
       "5985        5985                       Toyota Etios GD      Delhi  2013   \n",
       "\n",
       "      Kilometers_Driven Fuel_Type Transmission Owner_Type     Mileage  \\\n",
       "76               111111    Diesel       Manual      First   17.8 kmpl   \n",
       "79                87591    Petrol       Manual      First    0.0 kmpl   \n",
       "89                73745    Petrol       Manual      First   17.0 kmpl   \n",
       "120              102000    Petrol       Manual     Second   17.0 kmpl   \n",
       "143               80759    Petrol       Manual      Third   17.0 kmpl   \n",
       "...                 ...       ...          ...        ...         ...   \n",
       "5873              47200    Petrol       Manual     Second   17.0 kmpl   \n",
       "5893              51000    Petrol       Manual     Second   19.5 kmpl   \n",
       "5925              85000    Petrol       Manual      First   17.5 kmpl   \n",
       "5943              75000    Diesel       Manual      First    0.0 kmpl   \n",
       "5985              70000    Diesel       Manual      First  23.59 kmpl   \n",
       "\n",
       "       Engine     Power  Seats  Price  \n",
       "76    1399 CC  null bhp      5    2.0  \n",
       "79    1086 CC  null bhp      5    1.3  \n",
       "89    1086 CC  null bhp      5    2.1  \n",
       "120   1086 CC  null bhp      5   0.85  \n",
       "143   1086 CC  null bhp      5   1.67  \n",
       "...       ...       ...    ...    ...  \n",
       "5873  1086 CC  null bhp      5    1.2  \n",
       "5893  1061 CC  null bhp      5   1.75  \n",
       "5925  1798 CC  null bhp      5   2.85  \n",
       "5943  2112 CC  null bhp      6    1.7  \n",
       "5985  1364 CC  null bhp      5   3.88  \n",
       "\n",
       "[107 rows x 13 columns]"
      ]
     },
     "execution_count": 10,
     "metadata": {},
     "output_type": "execute_result"
    }
   ],
   "source": [
    "df[df['Power'] == 'null bhp']\n"
   ]
  },
  {
   "cell_type": "code",
   "execution_count": 11,
   "id": "f34b5c40",
   "metadata": {},
   "outputs": [],
   "source": [
    "indx = df[df['Power'] == 'null bhp'].index\n"
   ]
  },
  {
   "cell_type": "code",
   "execution_count": 12,
   "id": "28e3d462",
   "metadata": {},
   "outputs": [],
   "source": [
    "df.drop(indx,axis=0,inplace=True)\n"
   ]
  },
  {
   "cell_type": "code",
   "execution_count": 13,
   "id": "ea5e6a39",
   "metadata": {},
   "outputs": [],
   "source": [
    "dirty_cols = ['Mileage', 'Engine', 'Power']\n"
   ]
  },
  {
   "cell_type": "code",
   "execution_count": 14,
   "id": "4b6eeb0a",
   "metadata": {},
   "outputs": [],
   "source": [
    "for col in dirty_cols:\n",
    "    df[col] = df[col].apply(lambda x : float(x.split()[0]))"
   ]
  },
  {
   "cell_type": "code",
   "execution_count": 15,
   "id": "3fdccba4",
   "metadata": {},
   "outputs": [
    {
     "data": {
      "text/html": [
       "<div>\n",
       "<style scoped>\n",
       "    .dataframe tbody tr th:only-of-type {\n",
       "        vertical-align: middle;\n",
       "    }\n",
       "\n",
       "    .dataframe tbody tr th {\n",
       "        vertical-align: top;\n",
       "    }\n",
       "\n",
       "    .dataframe thead th {\n",
       "        text-align: right;\n",
       "    }\n",
       "</style>\n",
       "<table border=\"1\" class=\"dataframe\">\n",
       "  <thead>\n",
       "    <tr style=\"text-align: right;\">\n",
       "      <th></th>\n",
       "      <th>Unnamed: 0</th>\n",
       "      <th>Name</th>\n",
       "      <th>Location</th>\n",
       "      <th>Year</th>\n",
       "      <th>Kilometers_Driven</th>\n",
       "      <th>Fuel_Type</th>\n",
       "      <th>Transmission</th>\n",
       "      <th>Owner_Type</th>\n",
       "      <th>Mileage</th>\n",
       "      <th>Engine</th>\n",
       "      <th>Power</th>\n",
       "      <th>Seats</th>\n",
       "      <th>Price</th>\n",
       "    </tr>\n",
       "  </thead>\n",
       "  <tbody>\n",
       "    <tr>\n",
       "      <th>3366</th>\n",
       "      <td>3366</td>\n",
       "      <td>Honda City i DTEC SV</td>\n",
       "      <td>Mumbai</td>\n",
       "      <td>2014</td>\n",
       "      <td>25000</td>\n",
       "      <td>Diesel</td>\n",
       "      <td>Manual</td>\n",
       "      <td>First</td>\n",
       "      <td>26.00</td>\n",
       "      <td>1498.0</td>\n",
       "      <td>98.6</td>\n",
       "      <td>5</td>\n",
       "      <td>6.15</td>\n",
       "    </tr>\n",
       "    <tr>\n",
       "      <th>5801</th>\n",
       "      <td>5801</td>\n",
       "      <td>Toyota Corolla Altis G</td>\n",
       "      <td>Delhi</td>\n",
       "      <td>2013</td>\n",
       "      <td>64000</td>\n",
       "      <td>Petrol</td>\n",
       "      <td>Manual</td>\n",
       "      <td>Second</td>\n",
       "      <td>14.53</td>\n",
       "      <td>1798.0</td>\n",
       "      <td>138.1</td>\n",
       "      <td>5</td>\n",
       "      <td>5.2</td>\n",
       "    </tr>\n",
       "    <tr>\n",
       "      <th>1806</th>\n",
       "      <td>1806</td>\n",
       "      <td>Hyundai EON D Lite Plus</td>\n",
       "      <td>Kolkata</td>\n",
       "      <td>2013</td>\n",
       "      <td>36000</td>\n",
       "      <td>Petrol</td>\n",
       "      <td>Manual</td>\n",
       "      <td>First</td>\n",
       "      <td>21.10</td>\n",
       "      <td>814.0</td>\n",
       "      <td>55.2</td>\n",
       "      <td>5</td>\n",
       "      <td>1.95</td>\n",
       "    </tr>\n",
       "    <tr>\n",
       "      <th>499</th>\n",
       "      <td>499</td>\n",
       "      <td>Honda Brio VX AT</td>\n",
       "      <td>Mumbai</td>\n",
       "      <td>2014</td>\n",
       "      <td>35000</td>\n",
       "      <td>Petrol</td>\n",
       "      <td>Automatic</td>\n",
       "      <td>First</td>\n",
       "      <td>16.50</td>\n",
       "      <td>1198.0</td>\n",
       "      <td>86.8</td>\n",
       "      <td>5</td>\n",
       "      <td>4.25</td>\n",
       "    </tr>\n",
       "    <tr>\n",
       "      <th>608</th>\n",
       "      <td>608</td>\n",
       "      <td>BMW 5 Series 2013-2017 530d M Sport</td>\n",
       "      <td>Coimbatore</td>\n",
       "      <td>2016</td>\n",
       "      <td>20967</td>\n",
       "      <td>Diesel</td>\n",
       "      <td>Automatic</td>\n",
       "      <td>First</td>\n",
       "      <td>14.69</td>\n",
       "      <td>2993.0</td>\n",
       "      <td>258.0</td>\n",
       "      <td>5</td>\n",
       "      <td>44.56</td>\n",
       "    </tr>\n",
       "  </tbody>\n",
       "</table>\n",
       "</div>"
      ],
      "text/plain": [
       "      Unnamed: 0                                 Name    Location  Year  \\\n",
       "3366        3366                 Honda City i DTEC SV      Mumbai  2014   \n",
       "5801        5801               Toyota Corolla Altis G       Delhi  2013   \n",
       "1806        1806              Hyundai EON D Lite Plus     Kolkata  2013   \n",
       "499          499                     Honda Brio VX AT      Mumbai  2014   \n",
       "608          608  BMW 5 Series 2013-2017 530d M Sport  Coimbatore  2016   \n",
       "\n",
       "      Kilometers_Driven Fuel_Type Transmission Owner_Type  Mileage  Engine  \\\n",
       "3366              25000    Diesel       Manual      First    26.00  1498.0   \n",
       "5801              64000    Petrol       Manual     Second    14.53  1798.0   \n",
       "1806              36000    Petrol       Manual      First    21.10   814.0   \n",
       "499               35000    Petrol    Automatic      First    16.50  1198.0   \n",
       "608               20967    Diesel    Automatic      First    14.69  2993.0   \n",
       "\n",
       "      Power  Seats  Price  \n",
       "3366   98.6      5   6.15  \n",
       "5801  138.1      5    5.2  \n",
       "1806   55.2      5   1.95  \n",
       "499    86.8      5   4.25  \n",
       "608   258.0      5  44.56  "
      ]
     },
     "execution_count": 15,
     "metadata": {},
     "output_type": "execute_result"
    }
   ],
   "source": [
    "df.sample(5)"
   ]
  },
  {
   "cell_type": "code",
   "execution_count": 16,
   "id": "1c02e396",
   "metadata": {},
   "outputs": [
    {
     "name": "stdout",
     "output_type": "stream",
     "text": [
      "<class 'pandas.core.frame.DataFrame'>\n",
      "Int64Index: 5912 entries, 0 to 6018\n",
      "Data columns (total 13 columns):\n",
      " #   Column             Non-Null Count  Dtype  \n",
      "---  ------             --------------  -----  \n",
      " 0   Unnamed: 0         5912 non-null   Int64  \n",
      " 1   Name               5912 non-null   string \n",
      " 2   Location           5912 non-null   string \n",
      " 3   Year               5912 non-null   Int64  \n",
      " 4   Kilometers_Driven  5912 non-null   Int64  \n",
      " 5   Fuel_Type          5912 non-null   string \n",
      " 6   Transmission       5912 non-null   string \n",
      " 7   Owner_Type         5912 non-null   string \n",
      " 8   Mileage            5912 non-null   float64\n",
      " 9   Engine             5912 non-null   float64\n",
      " 10  Power              5912 non-null   float64\n",
      " 11  Seats              5912 non-null   Int64  \n",
      " 12  Price              5912 non-null   Float64\n",
      "dtypes: Float64(1), Int64(4), float64(3), string(5)\n",
      "memory usage: 675.5 KB\n"
     ]
    }
   ],
   "source": [
    "df.info()\n"
   ]
  },
  {
   "cell_type": "code",
   "execution_count": 17,
   "id": "114ade93",
   "metadata": {},
   "outputs": [],
   "source": [
    "df[\"Brand\"] = df[\"Name\"].apply(lambda x : x.split()[0])\n"
   ]
  },
  {
   "cell_type": "code",
   "execution_count": 18,
   "id": "cc13008d",
   "metadata": {},
   "outputs": [
    {
     "data": {
      "text/plain": [
       "30"
      ]
     },
     "execution_count": 18,
     "metadata": {},
     "output_type": "execute_result"
    }
   ],
   "source": [
    "df['Brand'].nunique()"
   ]
  },
  {
   "cell_type": "code",
   "execution_count": 19,
   "id": "1015ecf3",
   "metadata": {},
   "outputs": [],
   "source": [
    "df[\"Name\"] = df[\"Name\"].apply(lambda x : \" \".join(x.split()[:2]))\n"
   ]
  },
  {
   "cell_type": "code",
   "execution_count": 20,
   "id": "f5a375b5",
   "metadata": {},
   "outputs": [],
   "source": [
    "df = df.convert_dtypes()\n"
   ]
  },
  {
   "cell_type": "code",
   "execution_count": 21,
   "id": "52ffd947",
   "metadata": {},
   "outputs": [
    {
     "data": {
      "text/html": [
       "<div>\n",
       "<style scoped>\n",
       "    .dataframe tbody tr th:only-of-type {\n",
       "        vertical-align: middle;\n",
       "    }\n",
       "\n",
       "    .dataframe tbody tr th {\n",
       "        vertical-align: top;\n",
       "    }\n",
       "\n",
       "    .dataframe thead th {\n",
       "        text-align: right;\n",
       "    }\n",
       "</style>\n",
       "<table border=\"1\" class=\"dataframe\">\n",
       "  <thead>\n",
       "    <tr style=\"text-align: right;\">\n",
       "      <th></th>\n",
       "      <th>Unnamed: 0</th>\n",
       "      <th>Name</th>\n",
       "      <th>Location</th>\n",
       "      <th>Year</th>\n",
       "      <th>Kilometers_Driven</th>\n",
       "      <th>Fuel_Type</th>\n",
       "      <th>Transmission</th>\n",
       "      <th>Owner_Type</th>\n",
       "      <th>Mileage</th>\n",
       "      <th>Engine</th>\n",
       "      <th>Power</th>\n",
       "      <th>Seats</th>\n",
       "      <th>Price</th>\n",
       "      <th>Brand</th>\n",
       "    </tr>\n",
       "  </thead>\n",
       "  <tbody>\n",
       "    <tr>\n",
       "      <th>4313</th>\n",
       "      <td>4313</td>\n",
       "      <td>Maruti Wagon</td>\n",
       "      <td>Hyderabad</td>\n",
       "      <td>2016</td>\n",
       "      <td>35000</td>\n",
       "      <td>Petrol</td>\n",
       "      <td>Automatic</td>\n",
       "      <td>First</td>\n",
       "      <td>20.51</td>\n",
       "      <td>998</td>\n",
       "      <td>67.0</td>\n",
       "      <td>5</td>\n",
       "      <td>5.5</td>\n",
       "      <td>Maruti</td>\n",
       "    </tr>\n",
       "    <tr>\n",
       "      <th>5099</th>\n",
       "      <td>5099</td>\n",
       "      <td>Maruti Alto</td>\n",
       "      <td>Coimbatore</td>\n",
       "      <td>2012</td>\n",
       "      <td>65349</td>\n",
       "      <td>Petrol</td>\n",
       "      <td>Manual</td>\n",
       "      <td>First</td>\n",
       "      <td>20.92</td>\n",
       "      <td>998</td>\n",
       "      <td>67.1</td>\n",
       "      <td>5</td>\n",
       "      <td>2.81</td>\n",
       "      <td>Maruti</td>\n",
       "    </tr>\n",
       "    <tr>\n",
       "      <th>826</th>\n",
       "      <td>826</td>\n",
       "      <td>Volkswagen Polo</td>\n",
       "      <td>Ahmedabad</td>\n",
       "      <td>2013</td>\n",
       "      <td>55000</td>\n",
       "      <td>Diesel</td>\n",
       "      <td>Manual</td>\n",
       "      <td>First</td>\n",
       "      <td>22.07</td>\n",
       "      <td>1199</td>\n",
       "      <td>73.9</td>\n",
       "      <td>5</td>\n",
       "      <td>4.25</td>\n",
       "      <td>Volkswagen</td>\n",
       "    </tr>\n",
       "    <tr>\n",
       "      <th>297</th>\n",
       "      <td>297</td>\n",
       "      <td>Hyundai i10</td>\n",
       "      <td>Pune</td>\n",
       "      <td>2012</td>\n",
       "      <td>45275</td>\n",
       "      <td>Petrol</td>\n",
       "      <td>Manual</td>\n",
       "      <td>First</td>\n",
       "      <td>20.36</td>\n",
       "      <td>1197</td>\n",
       "      <td>78.9</td>\n",
       "      <td>5</td>\n",
       "      <td>2.8</td>\n",
       "      <td>Hyundai</td>\n",
       "    </tr>\n",
       "    <tr>\n",
       "      <th>3139</th>\n",
       "      <td>3139</td>\n",
       "      <td>Hyundai i10</td>\n",
       "      <td>Coimbatore</td>\n",
       "      <td>2013</td>\n",
       "      <td>32776</td>\n",
       "      <td>Petrol</td>\n",
       "      <td>Manual</td>\n",
       "      <td>First</td>\n",
       "      <td>20.36</td>\n",
       "      <td>1197</td>\n",
       "      <td>78.9</td>\n",
       "      <td>5</td>\n",
       "      <td>4.64</td>\n",
       "      <td>Hyundai</td>\n",
       "    </tr>\n",
       "  </tbody>\n",
       "</table>\n",
       "</div>"
      ],
      "text/plain": [
       "      Unnamed: 0             Name    Location  Year  Kilometers_Driven  \\\n",
       "4313        4313     Maruti Wagon   Hyderabad  2016              35000   \n",
       "5099        5099      Maruti Alto  Coimbatore  2012              65349   \n",
       "826          826  Volkswagen Polo   Ahmedabad  2013              55000   \n",
       "297          297      Hyundai i10        Pune  2012              45275   \n",
       "3139        3139      Hyundai i10  Coimbatore  2013              32776   \n",
       "\n",
       "     Fuel_Type Transmission Owner_Type  Mileage  Engine  Power  Seats  Price  \\\n",
       "4313    Petrol    Automatic      First    20.51     998   67.0      5    5.5   \n",
       "5099    Petrol       Manual      First    20.92     998   67.1      5   2.81   \n",
       "826     Diesel       Manual      First    22.07    1199   73.9      5   4.25   \n",
       "297     Petrol       Manual      First    20.36    1197   78.9      5    2.8   \n",
       "3139    Petrol       Manual      First    20.36    1197   78.9      5   4.64   \n",
       "\n",
       "           Brand  \n",
       "4313      Maruti  \n",
       "5099      Maruti  \n",
       "826   Volkswagen  \n",
       "297      Hyundai  \n",
       "3139     Hyundai  "
      ]
     },
     "execution_count": 21,
     "metadata": {},
     "output_type": "execute_result"
    }
   ],
   "source": [
    "df.sample(5)\n"
   ]
  },
  {
   "cell_type": "code",
   "execution_count": 22,
   "id": "dedd1162",
   "metadata": {},
   "outputs": [],
   "source": [
    "df.to_csv(\"Cleaned_Data.csv\")\n"
   ]
  },
  {
   "cell_type": "code",
   "execution_count": 23,
   "id": "bf786eba",
   "metadata": {},
   "outputs": [],
   "source": [
    "numerical_cols = ['Kilometers_Driven' , 'Mileage' , 'Engine' , 'Power','Price']"
   ]
  },
  {
   "cell_type": "code",
   "execution_count": 24,
   "id": "fcb83fcc",
   "metadata": {},
   "outputs": [],
   "source": [
    "df_nums = df.copy()\n",
    "from datasist.structdata import detect_outliers \n",
    "\n",
    "outliears = detect_outliers(df_nums[numerical_cols],0,df_nums[numerical_cols].columns)\n",
    "df_nums.drop(outliears,inplace=True)\n"
   ]
  },
  {
   "cell_type": "code",
   "execution_count": 26,
   "id": "f76f2d84",
   "metadata": {},
   "outputs": [],
   "source": [
    "transformation = {\n",
    "    \"First\":3,\n",
    "    \"Second\":2,\n",
    "    \"Third\":1,\n",
    "    \"Fourth & Above\":0\n",
    "}"
   ]
  },
  {
   "cell_type": "code",
   "execution_count": 27,
   "id": "4c70a0fc",
   "metadata": {},
   "outputs": [],
   "source": [
    "df['Owner_Type'] = df['Owner_Type'].map(transformation)\n"
   ]
  },
  {
   "cell_type": "code",
   "execution_count": 28,
   "id": "20f78349",
   "metadata": {},
   "outputs": [],
   "source": [
    "Nominal_data = ['Name','Location','Fuel_Type','Transmission','Brand']\n",
    "binaryencoder = ce.BinaryEncoder(cols=Nominal_data)\n",
    "df = binaryencoder.fit_transform(df)"
   ]
  },
  {
   "cell_type": "code",
   "execution_count": 29,
   "id": "14c704a9",
   "metadata": {},
   "outputs": [],
   "source": [
    "Numerical_data = ['Year','Kilometers_Driven','Mileage','Engine','Power','Seats','Price']"
   ]
  },
  {
   "cell_type": "code",
   "execution_count": 30,
   "id": "e6ee2d03",
   "metadata": {},
   "outputs": [],
   "source": [
    "# power = PowerTransformer()\n",
    "new_df = pd.DataFrame(PowerTransformer().fit_transform(df), columns=df.columns, index=df.index)"
   ]
  },
  {
   "cell_type": "code",
   "execution_count": 31,
   "id": "1e447b04",
   "metadata": {},
   "outputs": [],
   "source": [
    "# define dataset\n",
    "X, y = new_df.drop(\"Price\",axis=1) , new_df[\"Price\"] \n",
    "\n",
    "# split into train and test sets\n",
    "X_train, X_test, y_train, y_test = train_test_split(X, y, test_size=0.3, random_state=42)"
   ]
  },
  {
   "cell_type": "code",
   "execution_count": 32,
   "id": "6e160db8",
   "metadata": {},
   "outputs": [
    {
     "name": "stdout",
     "output_type": "stream",
     "text": [
      "R-Squered Trian 87.81 %\n",
      "R-Squered Test 88.4 %\n",
      "RMSE: 0.11028251509761501\n"
     ]
    }
   ],
   "source": [
    "reg = LinearRegression().fit(X_train,(y_train))\n",
    "print(\"R-Squered Trian\",round((reg.score(X_train,  (y_train))*100),2),'%')\n",
    "print(\"R-Squered Test\",round((reg.score(X_test,  (y_test))*100),2),'%')\n",
    "y_pred = reg.predict(X_test)\n",
    "print(f\"RMSE: {mean_squared_error(y_pred,(y_test))}\")"
   ]
  },
  {
   "cell_type": "code",
   "execution_count": 33,
   "id": "7cdf2e51",
   "metadata": {},
   "outputs": [
    {
     "data": {
      "text/plain": [
       "PolynomialFeatures()"
      ]
     },
     "execution_count": 33,
     "metadata": {},
     "output_type": "execute_result"
    }
   ],
   "source": [
    "from sklearn.preprocessing import PolynomialFeatures\n",
    "poly_reg = PolynomialFeatures(degree = 2)\n",
    "poly_reg.fit(X_train)"
   ]
  },
  {
   "cell_type": "code",
   "execution_count": 34,
   "id": "d8ac57ba",
   "metadata": {},
   "outputs": [],
   "source": [
    "X_train = poly_reg.transform(X_train)\n",
    "X_test = poly_reg.transform(X_test)"
   ]
  },
  {
   "cell_type": "code",
   "execution_count": 35,
   "id": "f116c1ed",
   "metadata": {},
   "outputs": [
    {
     "name": "stdout",
     "output_type": "stream",
     "text": [
      "R-Squered Trian 94.96 %\n",
      "R-Squered Test 94.43 %\n",
      "RMSE: 0.05299341980334996\n"
     ]
    }
   ],
   "source": [
    "reg = LassoCV().fit(X_train,(y_train))\n",
    "print(\"R-Squered Trian\",round((reg.score(X_train,  (y_train))*100),2),'%')\n",
    "print(\"R-Squered Test\",round((reg.score(X_test,  (y_test))*100),2),'%')\n",
    "y_pred = reg.predict(X_test)\n",
    "print(f\"RMSE: {mean_squared_error(y_pred,(y_test))}\")"
   ]
  },
  {
   "cell_type": "code",
   "execution_count": 36,
   "id": "d6e1ce67",
   "metadata": {},
   "outputs": [
    {
     "name": "stdout",
     "output_type": "stream",
     "text": [
      "R-Squered Trian 95.31 %\n",
      "R-Squered Test 94.16 %\n",
      "RMSE: 0.05551218083440016\n"
     ]
    }
   ],
   "source": [
    "reg = RidgeCV().fit(X_train,(y_train))\n",
    "print(\"R-Squered Trian\",round((reg.score(X_train,  (y_train))*100),2),'%')\n",
    "print(\"R-Squered Test\",round((reg.score(X_test,  (y_test))*100),2),'%')\n",
    "y_pred = reg.predict(X_test)\n",
    "print(f\"RMSE: {mean_squared_error(y_pred,(y_test))}\")"
   ]
  },
  {
   "cell_type": "code",
   "execution_count": 38,
   "id": "38e92082",
   "metadata": {},
   "outputs": [
    {
     "name": "stdout",
     "output_type": "stream",
     "text": [
      "R-Squered Trian 94.98 %\n",
      "R-Squered Test 94.43 %\n",
      "RMSE: 0.0529531214374046\n"
     ]
    }
   ],
   "source": [
    "elastic_reg = ElasticNetCV().fit(X_train,(y_train))\n",
    "print(\"R-Squered Trian\",round((reg.score(X_train,  (y_train))*100),2),'%')\n",
    "print(\"R-Squered Test\",round((reg.score(X_test,  (y_test))*100),2),'%')\n",
    "y_pred = reg.predict(X_test)\n",
    "print(f\"RMSE: {mean_squared_error(y_pred,(y_test))}\")"
   ]
  },
  {
   "cell_type": "code",
   "execution_count": 41,
   "id": "4138c602",
   "metadata": {},
   "outputs": [],
   "source": [
    "filename = \"used_car_model.pkl\"\n",
    "import pickle"
   ]
  },
  {
   "cell_type": "code",
   "execution_count": 42,
   "id": "c23cdeb6",
   "metadata": {},
   "outputs": [],
   "source": [
    "with open(filename, 'wb') as file:\n",
    "    # Write the model to the file\n",
    "    pickle.dump(elastic_reg, file)"
   ]
  },
  {
   "cell_type": "code",
   "execution_count": null,
   "id": "f4602b49",
   "metadata": {},
   "outputs": [],
   "source": []
  }
 ],
 "metadata": {
  "kernelspec": {
   "display_name": "Python 3 (ipykernel)",
   "language": "python",
   "name": "python3"
  },
  "language_info": {
   "codemirror_mode": {
    "name": "ipython",
    "version": 3
   },
   "file_extension": ".py",
   "mimetype": "text/x-python",
   "name": "python",
   "nbconvert_exporter": "python",
   "pygments_lexer": "ipython3",
   "version": "3.9.13"
  }
 },
 "nbformat": 4,
 "nbformat_minor": 5
}
